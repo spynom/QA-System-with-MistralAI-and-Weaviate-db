{
 "cells": [
  {
   "cell_type": "code",
   "id": "initial_id",
   "metadata": {
    "collapsed": true,
    "ExecuteTime": {
     "end_time": "2024-11-13T17:37:26.077695Z",
     "start_time": "2024-11-13T17:36:46.153787Z"
    }
   },
   "source": "!pip install weaviate-client pypdf rapidocr-onnxruntime",
   "outputs": [
    {
     "name": "stdout",
     "output_type": "stream",
     "text": [
      "Defaulting to user installation because normal site-packages is not writeable\r\n",
      "Collecting weaviate-client\r\n",
      "  Downloading weaviate_client-4.9.3-py3-none-any.whl (386 kB)\r\n",
      "\u001B[2K     \u001B[38;2;114;156;31m━━━━━━━━━━━━━━━━━━━━━━━━━━━━━━━━━━━━━━━\u001B[0m \u001B[32m386.4/386.4 KB\u001B[0m \u001B[31m1.3 MB/s\u001B[0m eta \u001B[36m0:00:00\u001B[0m[36m0:00:01\u001B[0mm eta \u001B[36m0:00:01\u001B[0m\r\n",
      "\u001B[?25hCollecting pypdf\r\n",
      "  Using cached pypdf-5.1.0-py3-none-any.whl (297 kB)\r\n",
      "Collecting rapidocr-onnxruntime\r\n",
      "  Downloading rapidocr_onnxruntime-1.3.25-py3-none-any.whl (14.9 MB)\r\n",
      "\u001B[2K     \u001B[38;2;114;156;31m━━━━━━━━━━━━━━━━━━━━━━━━━━━━━━━━━━━━━━━━\u001B[0m \u001B[32m14.9/14.9 MB\u001B[0m \u001B[31m3.3 MB/s\u001B[0m eta \u001B[36m0:00:00\u001B[0mm eta \u001B[36m0:00:01\u001B[0m[36m0:00:01\u001B[0m\r\n",
      "\u001B[?25hCollecting authlib<1.3.2,>=1.2.1\r\n",
      "  Downloading Authlib-1.3.1-py2.py3-none-any.whl (223 kB)\r\n",
      "\u001B[2K     \u001B[38;2;114;156;31m━━━━━━━━━━━━━━━━━━━━━━━━━━━━━━━━━━━━━━━\u001B[0m \u001B[32m223.8/223.8 KB\u001B[0m \u001B[31m2.0 MB/s\u001B[0m eta \u001B[36m0:00:00\u001B[0m MB/s\u001B[0m eta \u001B[36m0:00:01\u001B[0m:01\u001B[0m\r\n",
      "\u001B[?25hRequirement already satisfied: requests<3.0.0,>=2.30.0 in /home/spynom/.local/lib/python3.10/site-packages (from weaviate-client) (2.32.3)\r\n",
      "Collecting validators==0.34.0\r\n",
      "  Downloading validators-0.34.0-py3-none-any.whl (43 kB)\r\n",
      "\u001B[2K     \u001B[38;2;114;156;31m━━━━━━━━━━━━━━━━━━━━━━━━━━━━━━━━━━━━━━━━\u001B[0m \u001B[32m43.5/43.5 KB\u001B[0m \u001B[31m1.8 MB/s\u001B[0m eta \u001B[36m0:00:00\u001B[0m\r\n",
      "\u001B[?25hCollecting grpcio-health-checking<2.0.0,>=1.57.0\r\n",
      "  Downloading grpcio_health_checking-1.67.1-py3-none-any.whl (18 kB)\r\n",
      "Requirement already satisfied: grpcio<2.0.0,>=1.57.0 in /home/spynom/.local/lib/python3.10/site-packages (from weaviate-client) (1.67.1)\r\n",
      "Collecting grpcio-tools<2.0.0,>=1.57.0\r\n",
      "  Downloading grpcio_tools-1.67.1-cp310-cp310-manylinux_2_17_x86_64.manylinux2014_x86_64.whl (2.4 MB)\r\n",
      "\u001B[2K     \u001B[38;2;114;156;31m━━━━━━━━━━━━━━━━━━━━━━━━━━━━━━━━━━━━━━━━\u001B[0m \u001B[32m2.4/2.4 MB\u001B[0m \u001B[31m2.1 MB/s\u001B[0m eta \u001B[36m0:00:00\u001B[0m[36m0:00:01\u001B[0mm eta \u001B[36m0:00:01\u001B[0m\r\n",
      "\u001B[?25hRequirement already satisfied: pydantic<3.0.0,>=2.5.0 in /usr/local/lib/python3.10/dist-packages (from weaviate-client) (2.9.2)\r\n",
      "Collecting httpx<=0.27.0,>=0.25.0\r\n",
      "  Downloading httpx-0.27.0-py3-none-any.whl (75 kB)\r\n",
      "\u001B[2K     \u001B[38;2;114;156;31m━━━━━━━━━━━━━━━━━━━━━━━━━━━━━━━━━━━━━━━━\u001B[0m \u001B[32m75.6/75.6 KB\u001B[0m \u001B[31m2.5 MB/s\u001B[0m eta \u001B[36m0:00:00\u001B[0m\r\n",
      "\u001B[?25hRequirement already satisfied: typing_extensions>=4.0 in /home/spynom/.local/lib/python3.10/site-packages (from pypdf) (4.12.2)\r\n",
      "Collecting onnxruntime>=1.7.0\r\n",
      "  Downloading onnxruntime-1.20.0-cp310-cp310-manylinux_2_27_x86_64.manylinux_2_28_x86_64.whl (13.3 MB)\r\n",
      "\u001B[2K     \u001B[38;2;114;156;31m━━━━━━━━━━━━━━━━━━━━━━━━━━━━━━━━━━━━━━━━\u001B[0m \u001B[32m13.3/13.3 MB\u001B[0m \u001B[31m2.5 MB/s\u001B[0m eta \u001B[36m0:00:00\u001B[0mm eta \u001B[36m0:00:01\u001B[0m[36m0:00:01\u001B[0m\r\n",
      "\u001B[?25hRequirement already satisfied: tqdm in /usr/local/lib/python3.10/dist-packages (from rapidocr-onnxruntime) (4.66.5)\r\n",
      "Requirement already satisfied: six>=1.15.0 in /usr/lib/python3/dist-packages (from rapidocr-onnxruntime) (1.16.0)\r\n",
      "Requirement already satisfied: PyYAML in /usr/lib/python3/dist-packages (from rapidocr-onnxruntime) (5.4.1)\r\n",
      "Requirement already satisfied: numpy<3.0.0,>=1.19.5 in /home/spynom/.local/lib/python3.10/site-packages (from rapidocr-onnxruntime) (1.26.4)\r\n",
      "Collecting Shapely!=2.0.4,>=1.7.1\r\n",
      "  Downloading shapely-2.0.6-cp310-cp310-manylinux_2_17_x86_64.manylinux2014_x86_64.whl (2.5 MB)\r\n",
      "\u001B[2K     \u001B[38;2;114;156;31m━━━━━━━━━━━━━━━━━━━━━━━━━━━━━━━━━━━━━━━━\u001B[0m \u001B[32m2.5/2.5 MB\u001B[0m \u001B[31m3.0 MB/s\u001B[0m eta \u001B[36m0:00:00\u001B[0m[31m3.0 MB/s\u001B[0m eta \u001B[36m0:00:01\u001B[0m\r\n",
      "\u001B[?25hCollecting pyclipper>=1.2.0\r\n",
      "  Downloading pyclipper-1.3.0.post6-cp310-cp310-manylinux_2_12_x86_64.manylinux2010_x86_64.whl (912 kB)\r\n",
      "\u001B[2K     \u001B[38;2;114;156;31m━━━━━━━━━━━━━━━━━━━━━━━━━━━━━━━━━━━━━━━\u001B[0m \u001B[32m912.2/912.2 KB\u001B[0m \u001B[31m3.3 MB/s\u001B[0m eta \u001B[36m0:00:00\u001B[0m MB/s\u001B[0m eta \u001B[36m0:00:01\u001B[0m:01\u001B[0m\r\n",
      "\u001B[?25hCollecting opencv-python>=4.5.1.48\r\n",
      "  Downloading opencv_python-4.10.0.84-cp37-abi3-manylinux_2_17_x86_64.manylinux2014_x86_64.whl (62.5 MB)\r\n",
      "\u001B[2K     \u001B[38;2;114;156;31m━━━━━━━━━━━━━━━━━━━━━━━━━━━━━━━━━━━━━━━━\u001B[0m \u001B[32m62.5/62.5 MB\u001B[0m \u001B[31m4.8 MB/s\u001B[0m eta \u001B[36m0:00:00\u001B[0mm eta \u001B[36m0:00:01\u001B[0m[36m0:00:01\u001B[0m\r\n",
      "\u001B[?25hRequirement already satisfied: Pillow in /usr/lib/python3/dist-packages (from rapidocr-onnxruntime) (9.0.1)\r\n",
      "Requirement already satisfied: cryptography in /home/spynom/.local/lib/python3.10/site-packages (from authlib<1.3.2,>=1.2.1->weaviate-client) (43.0.3)\r\n",
      "Requirement already satisfied: protobuf<6.0dev,>=5.26.1 in /home/spynom/.local/lib/python3.10/site-packages (from grpcio-health-checking<2.0.0,>=1.57.0->weaviate-client) (5.28.3)\r\n",
      "Requirement already satisfied: setuptools in /usr/lib/python3/dist-packages (from grpcio-tools<2.0.0,>=1.57.0->weaviate-client) (59.6.0)\r\n",
      "Requirement already satisfied: httpcore==1.* in /home/spynom/.local/lib/python3.10/site-packages (from httpx<=0.27.0,>=0.25.0->weaviate-client) (1.0.5)\r\n",
      "Requirement already satisfied: certifi in /usr/lib/python3/dist-packages (from httpx<=0.27.0,>=0.25.0->weaviate-client) (2020.6.20)\r\n",
      "Requirement already satisfied: anyio in /home/spynom/.local/lib/python3.10/site-packages (from httpx<=0.27.0,>=0.25.0->weaviate-client) (4.6.0)\r\n",
      "Requirement already satisfied: idna in /usr/lib/python3/dist-packages (from httpx<=0.27.0,>=0.25.0->weaviate-client) (3.3)\r\n",
      "Requirement already satisfied: sniffio in /home/spynom/.local/lib/python3.10/site-packages (from httpx<=0.27.0,>=0.25.0->weaviate-client) (1.3.1)\r\n",
      "Requirement already satisfied: h11<0.15,>=0.13 in /home/spynom/.local/lib/python3.10/site-packages (from httpcore==1.*->httpx<=0.27.0,>=0.25.0->weaviate-client) (0.14.0)\r\n",
      "Requirement already satisfied: sympy in /home/spynom/.local/lib/python3.10/site-packages (from onnxruntime>=1.7.0->rapidocr-onnxruntime) (1.13.3)\r\n",
      "Collecting coloredlogs\r\n",
      "  Downloading coloredlogs-15.0.1-py2.py3-none-any.whl (46 kB)\r\n",
      "\u001B[2K     \u001B[38;2;114;156;31m━━━━━━━━━━━━━━━━━━━━━━━━━━━━━━━━━━━━━━━━\u001B[0m \u001B[32m46.0/46.0 KB\u001B[0m \u001B[31m3.6 MB/s\u001B[0m eta \u001B[36m0:00:00\u001B[0m\r\n",
      "\u001B[?25hRequirement already satisfied: packaging in /home/spynom/.local/lib/python3.10/site-packages (from onnxruntime>=1.7.0->rapidocr-onnxruntime) (24.1)\r\n",
      "Requirement already satisfied: flatbuffers in /home/spynom/.local/lib/python3.10/site-packages (from onnxruntime>=1.7.0->rapidocr-onnxruntime) (24.3.25)\r\n",
      "Requirement already satisfied: pydantic-core==2.23.4 in /usr/local/lib/python3.10/dist-packages (from pydantic<3.0.0,>=2.5.0->weaviate-client) (2.23.4)\r\n",
      "Requirement already satisfied: annotated-types>=0.6.0 in /usr/local/lib/python3.10/dist-packages (from pydantic<3.0.0,>=2.5.0->weaviate-client) (0.7.0)\r\n",
      "Requirement already satisfied: urllib3<3,>=1.21.1 in /usr/lib/python3/dist-packages (from requests<3.0.0,>=2.30.0->weaviate-client) (1.26.5)\r\n",
      "Requirement already satisfied: charset-normalizer<4,>=2 in /home/spynom/.local/lib/python3.10/site-packages (from requests<3.0.0,>=2.30.0->weaviate-client) (3.3.2)\r\n",
      "Requirement already satisfied: exceptiongroup>=1.0.2 in /home/spynom/.local/lib/python3.10/site-packages (from anyio->httpx<=0.27.0,>=0.25.0->weaviate-client) (1.2.2)\r\n",
      "Collecting humanfriendly>=9.1\r\n",
      "  Downloading humanfriendly-10.0-py2.py3-none-any.whl (86 kB)\r\n",
      "\u001B[2K     \u001B[38;2;114;156;31m━━━━━━━━━━━━━━━━━━━━━━━━━━━━━━━━━━━━━━━━\u001B[0m \u001B[32m86.8/86.8 KB\u001B[0m \u001B[31m9.8 MB/s\u001B[0m eta \u001B[36m0:00:00\u001B[0m\r\n",
      "\u001B[?25hRequirement already satisfied: cffi>=1.12 in /home/spynom/.local/lib/python3.10/site-packages (from cryptography->authlib<1.3.2,>=1.2.1->weaviate-client) (1.17.1)\r\n",
      "Requirement already satisfied: mpmath<1.4,>=1.1.0 in /home/spynom/.local/lib/python3.10/site-packages (from sympy->onnxruntime>=1.7.0->rapidocr-onnxruntime) (1.3.0)\r\n",
      "Requirement already satisfied: pycparser in /home/spynom/.local/lib/python3.10/site-packages (from cffi>=1.12->cryptography->authlib<1.3.2,>=1.2.1->weaviate-client) (2.22)\r\n",
      "Installing collected packages: pyclipper, validators, Shapely, pypdf, opencv-python, humanfriendly, grpcio-tools, grpcio-health-checking, httpx, coloredlogs, onnxruntime, authlib, weaviate-client, rapidocr-onnxruntime\r\n",
      "  Attempting uninstall: httpx\r\n",
      "    Found existing installation: httpx 0.27.2\r\n",
      "    Uninstalling httpx-0.27.2:\r\n",
      "      Successfully uninstalled httpx-0.27.2\r\n",
      "Successfully installed Shapely-2.0.6 authlib-1.3.1 coloredlogs-15.0.1 grpcio-health-checking-1.67.1 grpcio-tools-1.67.1 httpx-0.27.0 humanfriendly-10.0 onnxruntime-1.20.0 opencv-python-4.10.0.84 pyclipper-1.3.0.post6 pypdf-5.1.0 rapidocr-onnxruntime-1.3.25 validators-0.34.0 weaviate-client-4.9.3\r\n"
     ]
    }
   ],
   "execution_count": 1
  },
  {
   "metadata": {},
   "cell_type": "code",
   "outputs": [],
   "execution_count": null,
   "source": "",
   "id": "43548003f3b7b54b"
  }
 ],
 "metadata": {
  "kernelspec": {
   "display_name": "Python 3",
   "language": "python",
   "name": "python3"
  },
  "language_info": {
   "codemirror_mode": {
    "name": "ipython",
    "version": 2
   },
   "file_extension": ".py",
   "mimetype": "text/x-python",
   "name": "python",
   "nbconvert_exporter": "python",
   "pygments_lexer": "ipython2",
   "version": "2.7.6"
  }
 },
 "nbformat": 4,
 "nbformat_minor": 5
}
